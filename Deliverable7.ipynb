{
  "nbformat": 4,
  "nbformat_minor": 0,
  "metadata": {
    "colab": {
      "provenance": []
    },
    "kernelspec": {
      "name": "python3",
      "display_name": "Python 3"
    },
    "language_info": {
      "name": "python"
    }
  },
  "cells": [
    {
      "cell_type": "markdown",
      "source": [
        "Jacob Broerman\n",
        "3/9/2023\n",
        "Description: Prompt a user for an interger > 0, store their input in a list, and display that in a data frame"
      ],
      "metadata": {
        "id": "b14Bv9WKoerZ"
      }
    },
    {
      "cell_type": "code",
      "execution_count": 1,
      "metadata": {
        "id": "QDKVQ6dSeHRK"
      },
      "outputs": [],
      "source": [
        "import pandas as pd\n"
      ]
    },
    {
      "cell_type": "code",
      "source": [
        "n = int(input(\"Enter an integer value greater than 0: \"))"
      ],
      "metadata": {
        "colab": {
          "base_uri": "https://localhost:8080/"
        },
        "id": "ccCs78fukvs8",
        "outputId": "4d14c9cf-00ec-4f80-e5af-b0812d23b382"
      },
      "execution_count": 2,
      "outputs": [
        {
          "name": "stdout",
          "output_type": "stream",
          "text": [
            "Enter an integer value greater than 0: 96\n"
          ]
        }
      ]
    },
    {
      "cell_type": "code",
      "source": [
        "if n <= 0:\n",
        "    print(\"Invalid input! Please enter an integer value that is greater than 0.\")\n",
        "else:\n",
        "  even = [2 * i for i in range(n)]\n",
        "  odd = [2 * i + 1 for i in range(n)]\n",
        "  fibonacci = [0, 1] + [0] * (n - 2)\n",
        "  for i in range(2, n):\n",
        "    fibonacci[i] = fibonacci[i-1] + fibonacci[i-2]"
      ],
      "metadata": {
        "id": "vki4hg4Wk77B"
      },
      "execution_count": 8,
      "outputs": []
    },
    {
      "cell_type": "code",
      "source": [
        " data = {'Even Numbers': even, 'Odd Numbers': odd, 'Fibonacci Numbers': fibonacci}\n",
        " df = pd.DataFrame(data)\n",
        " print(df)"
      ],
      "metadata": {
        "colab": {
          "base_uri": "https://localhost:8080/"
        },
        "id": "jPfKB6UdmtPq",
        "outputId": "f2902752-32a9-4f33-ce75-6d001f87f8bb"
      },
      "execution_count": 11,
      "outputs": [
        {
          "output_type": "stream",
          "name": "stdout",
          "text": [
            "    Even Numbers  Odd Numbers     Fibonacci Numbers\n",
            "0              0            1                     0\n",
            "1              2            3                     1\n",
            "2              4            5                     1\n",
            "3              6            7                     2\n",
            "4              8            9                     3\n",
            "..           ...          ...                   ...\n",
            "91           182          183   4660046610375530309\n",
            "92           184          185   7540113804746346429\n",
            "93           186          187  12200160415121876738\n",
            "94           188          189  19740274219868223167\n",
            "95           190          191  31940434634990099905\n",
            "\n",
            "[96 rows x 3 columns]\n"
          ]
        }
      ]
    }
  ]
}